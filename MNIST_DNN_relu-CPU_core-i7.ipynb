{
 "cells": [
  {
   "cell_type": "markdown",
   "metadata": {},
   "source": [
    "<span style=\"font-size:10pt\">Copyright Jean-Luc CHARLES $-$ 2025/03/14 $-$ CC BY-SA 4.0 $-$  <img src=\"img/CC-BY-SA.jpeg\" width=\"50\"></span> "
   ]
  },
  {
   "cell_type": "markdown",
   "metadata": {
    "tags": []
   },
   "source": [
    "# Training Reproducibility with tensorflow"
   ]
  },
  {
   "cell_type": "markdown",
   "metadata": {},
   "source": [
    "<div class=\"alert alert-block alert-danger\">\n",
    "<span style=\"color:brown;font-family:arial;font-size:normal\"> \n",
    "    It is fundamental to use a <span style=\"font-weight:bold;\">Python Virtual Environment</span> (PVE) for each important Python project: the PVE makes it possible to control for each project the versions of the Python interpreter and \"sensitive\" modules (like tensorflow for example).</span></div>\n",
    "\n",
    "This notebook should be run with tensorflow 2.16.2"
   ]
  },
  {
   "cell_type": "markdown",
   "metadata": {},
   "source": [
    "## 1 - Import the required Python modules"
   ]
  },
  {
   "cell_type": "code",
   "execution_count": 1,
   "metadata": {
    "tags": []
   },
   "outputs": [
    {
     "name": "stdout",
     "output_type": "stream",
     "text": [
      "Python    : 3.12.3\n",
      "tensorflow: 2.16.2 with keras 3.8.0\n",
      "numpy     : 1.26.4\n",
      "OpenCV    : 4.11.0\n"
     ]
    }
   ],
   "source": [
    "import os\n",
    "os.environ['TF_CPP_MIN_LOG_LEVEL'] = '3' #suppress the numerous TensorFlow warnings\n",
    "\n",
    "import tensorflow as tf\n",
    "from tensorflow import keras\n",
    "\n",
    "import sys\n",
    "import matplotlib.pyplot as plt\n",
    "import numpy as np\n",
    "import cv2\n",
    "from time import time\n",
    "from cpuinfo import get_cpu_info\n",
    "\n",
    "from sklearn.metrics import confusion_matrix, classification_report\n",
    "from sklearn.model_selection import train_test_split\n",
    "\n",
    "# specific modules:\n",
    "from utils.tools import scan_dir, plot_images, plot_loss_accuracy, elapsed_time_since, show_conf_matrix, plot_proportion_bar\n",
    "\n",
    "print(f\"Python    : {sys.version.split()[0]}\")\n",
    "print(f\"tensorflow: {tf.__version__} with keras {keras.__version__}\")\n",
    "print(f\"numpy     : {np.__version__}\")\n",
    "print(f\"OpenCV    : {cv2.__version__}\")"
   ]
  },
  {
   "cell_type": "code",
   "execution_count": 2,
   "metadata": {
    "scrolled": true,
    "tags": []
   },
   "outputs": [],
   "source": [
    "# allows to visualize the graphs directly in the cell of the notebook:\n",
    "%matplotlib inline"
   ]
  },
  {
   "cell_type": "markdown",
   "metadata": {},
   "source": [
    "Unless explicitly stated, we use this seed value to make reproducible the random generators:"
   ]
  },
  {
   "cell_type": "code",
   "execution_count": 3,
   "metadata": {},
   "outputs": [],
   "source": [
    "SEED = 1234"
   ]
  },
  {
   "cell_type": "markdown",
   "metadata": {},
   "source": [
    "## 2 - Reproducibility of pseudo-random generators <a name=\"2\"></a>"
   ]
  },
  {
   "cell_type": "markdown",
   "metadata": {},
   "source": [
    "The weights of a neural network are initialized by __random values__ : when pseudo-random generators are invoked several times in succession, different random sequence are created at each invocation. For example with `numpy.random.rand`:"
   ]
  },
  {
   "cell_type": "code",
   "execution_count": 4,
   "metadata": {
    "tags": []
   },
   "outputs": [
    {
     "name": "stdout",
     "output_type": "stream",
     "text": [
      "[0.76115545 0.34758119 0.52571054 0.15295794 0.15950657 0.51222472]\n",
      "[0.13227483 0.49246874 0.42586761 0.56723665 0.49912546 0.38033724]\n",
      "[0.07171786 0.49566983 0.56254636 0.01266717 0.91392766 0.49843471]\n",
      "[0.4827509  0.28019941 0.20194243 0.29275074 0.29804042 0.12697602]\n",
      "[0.42115901 0.70891163 0.69102591 0.92058956 0.145961   0.89569185]\n"
     ]
    }
   ],
   "source": [
    "import numpy as np\n",
    "for _ in range(5):\n",
    "    print(np.random.rand(6))"
   ]
  },
  {
   "cell_type": "markdown",
   "metadata": {
    "tags": []
   },
   "source": [
    "<span style=\"color:brown\">This behavior can be very inappropriate when studying the performance of a trained network as a function of meta-parameters:<br>every time you run the training of the neural network (runing the cell or the notebook) with different values of the meta-parameters, you get a different initial state of the network, leading to a different training network...\n",
    "</spawn>"
   ]
  },
  {
   "cell_type": "markdown",
   "metadata": {},
   "source": [
    "### The seed of random generators"
   ]
  },
  {
   "cell_type": "markdown",
   "metadata": {},
   "source": [
    "The technical solution to get a reproducible random sequence from a (pseudo) random generator is to set the __seed__ of the generator.<br>\n",
    "\n",
    "The following cells illustrate the mechanism:"
   ]
  },
  {
   "cell_type": "code",
   "execution_count": 5,
   "metadata": {
    "tags": []
   },
   "outputs": [
    {
     "name": "stdout",
     "output_type": "stream",
     "text": [
      "[0.19151945 0.62210877 0.43772774 0.78535858 0.77997581]\n",
      "[0.19151945 0.62210877 0.43772774 0.78535858 0.77997581]\n",
      "[0.19151945 0.62210877 0.43772774 0.78535858 0.77997581]\n",
      "[0.19151945 0.62210877 0.43772774 0.78535858 0.77997581]\n",
      "[0.19151945 0.62210877 0.43772774 0.78535858 0.77997581]\n"
     ]
    }
   ],
   "source": [
    "for _ in range(5):\n",
    "    np.random.seed(1234)\n",
    "    print(np.random.rand(5))"
   ]
  },
  {
   "cell_type": "markdown",
   "metadata": {},
   "source": [
    "<span style=\"color:brown\">Setting the __seed__ ensure that the random sequence is the same even on other computers (Windows, Mac, Linux...).<br>\n",
    "    The figure bellow comes from a Windows10 machine :\n",
    "</spawn>\n",
    "![img/seed_1234_w10.png](img/seed_1234_w10.png)"
   ]
  },
  {
   "cell_type": "markdown",
   "metadata": {},
   "source": [
    "Of course if you change the seed you get a different random sequence:"
   ]
  },
  {
   "cell_type": "code",
   "execution_count": 6,
   "metadata": {
    "tags": []
   },
   "outputs": [
    {
     "name": "stdout",
     "output_type": "stream",
     "text": [
      "[0.66064431 0.41360065 0.66810256 0.22994342 0.80767834]\n",
      "[0.66064431 0.41360065 0.66810256 0.22994342 0.80767834]\n",
      "[0.66064431 0.41360065 0.66810256 0.22994342 0.80767834]\n",
      "[0.66064431 0.41360065 0.66810256 0.22994342 0.80767834]\n",
      "[0.66064431 0.41360065 0.66810256 0.22994342 0.80767834]\n"
     ]
    }
   ],
   "source": [
    "for _ in range(5):\n",
    "    np.random.seed(2345)\n",
    "    print(np.random.rand(5))"
   ]
  },
  {
   "cell_type": "markdown",
   "metadata": {},
   "source": [
    "## 3 - Load the MNIST dataset (images and labels)"
   ]
  },
  {
   "cell_type": "markdown",
   "metadata": {},
   "source": [
    "We use the keras `load_data` function to load the data from the MNIST \n",
    "(see [tf.keras.datasets.mnist.load_data](https://www.tensorflow.org/api_docs/python/tf/keras/datasets/mnist/load_data)):<br>\n",
    "- `im_train`, `lab_train` are the training images and labels,\n",
    "- `im_valid`, `lab_valid` are the validation images and labels."
   ]
  },
  {
   "cell_type": "code",
   "execution_count": 7,
   "metadata": {},
   "outputs": [],
   "source": [
    "(im_train, lab_train), (im_valid, lab_valid) = keras.datasets.mnist.load_data()"
   ]
  },
  {
   "cell_type": "markdown",
   "metadata": {},
   "source": [
    "Let's check the `shape` and `dtype` attributes of the numpy arrays:"
   ]
  },
  {
   "cell_type": "code",
   "execution_count": 8,
   "metadata": {},
   "outputs": [
    {
     "name": "stdout",
     "output_type": "stream",
     "text": [
      "im_train.shape:  (60000, 28, 28), dtype: uint8\n",
      "im_valid.shape:  (10000, 28, 28), dtype: uint8\n",
      "lab_train.shape: (60000,), dtype: uint8\n",
      "lab_vaild.shape: (10000,), dtype: uint8\n"
     ]
    }
   ],
   "source": [
    "print(f\"im_train.shape:  {im_train.shape}, dtype: {im_train.dtype}\")\n",
    "print(f\"im_valid.shape:  {im_valid.shape}, dtype: {im_valid.dtype}\")\n",
    "print(f\"lab_train.shape: {lab_train.shape}, dtype: {lab_train.dtype}\")\n",
    "print(f\"lab_vaild.shape: {lab_valid.shape}, dtype: {lab_valid.dtype}\")"
   ]
  },
  {
   "cell_type": "markdown",
   "metadata": {},
   "source": [
    "### Visualization of images and labels:"
   ]
  },
  {
   "cell_type": "markdown",
   "metadata": {},
   "source": [
    "The local module `utils.tools` defines the `plot_images` function which can be used to diplay a grid of MINIT images.<br>\n",
    "Let's plot a grid of images 4 x 6 geginning with the 600th image:"
   ]
  },
  {
   "cell_type": "code",
   "execution_count": 9,
   "metadata": {
    "tags": []
   },
   "outputs": [
    {
     "data": {
      "image/png": "[encoded data removed]",
      "text/plain": [
       "<Figure size 600x200 with 30 Axes>"
      ]
     },
     "metadata": {},
     "output_type": "display_data"
    }
   ],
   "source": [
    "plot_images(im_train, 3, 10, 599, label_array=lab_train)"
   ]
  },
  {
   "cell_type": "markdown",
   "metadata": {},
   "source": [
    "### Create the 3 datasets: train, validation & test"
   ]
  },
  {
   "cell_type": "markdown",
   "metadata": {},
   "source": [
    "To follow the _state of the art_, we will split the whole dataset into train, validation & test datasets.<br>\n",
    "A simple way to do this is to keep the train dataset and to split of the current validation dataset in two equal subsets:\n",
    "- a new smaller validation set,\n",
    "- a new test set."
   ]
  },
  {
   "cell_type": "code",
   "execution_count": 10,
   "metadata": {},
   "outputs": [],
   "source": [
    "# note on train_test_split : Stratified train/test split is not implemented for shuffle=False \n",
    "\n",
    "im_valid, im_test, lab_valid, lab_test = train_test_split(im_valid, lab_valid,\n",
    "                                                          stratify=lab_valid,\n",
    "                                                          test_size=0.5,\n",
    "                                                          shuffle=True,\n",
    "                                                          random_state=SEED)"
   ]
  },
  {
   "cell_type": "markdown",
   "metadata": {},
   "source": [
    "Let's check the sizes of the 3 datasets:"
   ]
  },
  {
   "cell_type": "code",
   "execution_count": 11,
   "metadata": {},
   "outputs": [
    {
     "name": "stdout",
     "output_type": "stream",
     "text": [
      "train:  (60000, 28, 28)\n",
      "valid:  (5000, 28, 28)\n",
      "test :  (5000, 28, 28)\n"
     ]
    }
   ],
   "source": [
    "print(f'train:  {im_train.shape}')\n",
    "print(f'valid:  {im_valid.shape}')\n",
    "print(f'test :  {im_test.shape}')"
   ]
  },
  {
   "cell_type": "markdown",
   "metadata": {},
   "source": [
    "We can verify that the proportion of digits remains homogenous in all the datasets:"
   ]
  },
  {
   "cell_type": "code",
   "execution_count": 12,
   "metadata": {},
   "outputs": [
    {
     "data": {
      "image/png": "[encoded data removed]",
      "text/plain": [
       "<Figure size 600x400 with 1 Axes>"
      ]
     },
     "metadata": {},
     "output_type": "display_data"
    }
   ],
   "source": [
    "prop = {}\n",
    "prop['valid'] = [ (lab_valid == i).sum() for i in range(10)]\n",
    "prop['test']  = [ (lab_test  == i).sum() for i in range(10)]\n",
    "plot_proportion_bar(prop, range(10))"
   ]
  },
  {
   "cell_type": "markdown",
   "metadata": {},
   "source": [
    "### Setting useful parameters:"
   ]
  },
  {
   "cell_type": "markdown",
   "metadata": {},
   "source": [
    "To avoid hard-coding the number of training, validation & test images as well as the size of the images, these numbers are recovered from the data set:\n",
    "- with the shape attribute of the image arrays;\n",
    "- with the size attribute of the first training image for example."
   ]
  },
  {
   "cell_type": "code",
   "execution_count": 13,
   "metadata": {},
   "outputs": [
    {
     "name": "stdout",
     "output_type": "stream",
     "text": [
      "Image size: (28, 28)=784 pixels\n",
      "10 different classes found in the `lab_train` ndarray\n"
     ]
    }
   ],
   "source": [
    "# number of training images:\n",
    "NB_IM_TRAIN = im_train.shape[0]\n",
    "NB_IM_VALID = im_valid.shape[0]     \n",
    "NB_IM_TEST  = im_test.shape[0]     \n",
    "\n",
    "# image shape:\n",
    "IM_SHAPE = im_train[0].shape\n",
    "\n",
    "# number of elements (pixels) of the firts training image: \n",
    "NB_PIXEL    = im_train[0].size   \n",
    "\n",
    "# Visual checking:\n",
    "print(f\"Image size: {IM_SHAPE}={NB_PIXEL} pixels\")\n",
    "\n",
    "# number of classes:\n",
    "NB_CLASS = len(set(lab_train))\n",
    "print(f\"{NB_CLASS} different classes found in the `lab_train` ndarray\")"
   ]
  },
  {
   "cell_type": "markdown",
   "metadata": {},
   "source": [
    "## 4 - Pre-process input dataset"
   ]
  },
  {
   "cell_type": "markdown",
   "metadata": {},
   "source": [
    "Two treatments must be applied to the data from the MNIST database:\n",
    "- on the images: transform the matrices of  28$\\,\\times\\,$28 pixels (`uint8`integers) into **normalized** vectors $(V_i)_{i=0..783}$ of 784 real values $V_i$ with $ 0 \\leqslant V_i \\leqslant 1$;\n",
    "- on labels: transform scalar numbers into *one-hot* vectors."
   ]
  },
  {
   "cell_type": "markdown",
   "metadata": {},
   "source": [
    "### Transform input matrices into normalized vectors\n",
    "\n",
    "We define the arrays `x_train`, `x_valid` and `x_test` containing the matrices of the arrays `im_train`, `im_valid` and `im_test` *flattened* as normalized vectors (values between 0 and 1):"
   ]
  },
  {
   "cell_type": "code",
   "execution_count": 14,
   "metadata": {},
   "outputs": [
    {
     "name": "stdout",
     "output_type": "stream",
     "text": [
      "train: (60000, 784), min: 0.0, max: 1.0\n",
      "valid: (5000, 784), min: 0.0, max: 1.0\n",
      "test : (5000, 784), min: 0.0, max: 1.0\n"
     ]
    }
   ],
   "source": [
    "x_train = im_train.reshape(NB_IM_TRAIN, NB_PIXEL)/255\n",
    "x_valid = im_valid.reshape(NB_IM_VALID, NB_PIXEL)/255\n",
    "x_test  = im_test.reshape(NB_IM_TEST, NB_PIXEL)/255\n",
    "\n",
    "#check:\n",
    "print(f'train: {x_train.shape}, min: {x_train.min()}, max: {x_train.max()}')\n",
    "print(f'valid: {x_valid.shape}, min: {x_valid.min()}, max: {x_valid.max()}')\n",
    "print(f'test : {x_test.shape}, min: {x_test.min()}, max: {x_test.max()}')"
   ]
  },
  {
   "cell_type": "markdown",
   "metadata": {},
   "source": [
    "### *one-hot* encoding of labels:"
   ]
  },
  {
   "cell_type": "markdown",
   "metadata": {},
   "source": [
    "We use the **keras** `to_categorical` function to define the `y_train` and `y_valid` arrays containing the *hot-one* encoded version of `lab_train` and `lab_valid`:"
   ]
  },
  {
   "cell_type": "code",
   "execution_count": 15,
   "metadata": {},
   "outputs": [],
   "source": [
    "from tensorflow.keras.utils import to_categorical\n",
    "# 'one-hot' encoding' of labels :\n",
    "y_train = to_categorical(lab_train)\n",
    "y_valid = to_categorical(lab_valid)"
   ]
  },
  {
   "cell_type": "markdown",
   "metadata": {},
   "source": [
    "Let's check the first 10 values of the `lab_train` and `y_train` arrays:"
   ]
  },
  {
   "cell_type": "code",
   "execution_count": 16,
   "metadata": {},
   "outputs": [
    {
     "name": "stdout",
     "output_type": "stream",
     "text": [
      "[5 0 4 1 9 2 1 3 1 4]\n",
      "[[0. 0. 0. 0. 0. 1. 0. 0. 0. 0.]\n",
      " [1. 0. 0. 0. 0. 0. 0. 0. 0. 0.]\n",
      " [0. 0. 0. 0. 1. 0. 0. 0. 0. 0.]\n",
      " [0. 1. 0. 0. 0. 0. 0. 0. 0. 0.]\n",
      " [0. 0. 0. 0. 0. 0. 0. 0. 0. 1.]\n",
      " [0. 0. 1. 0. 0. 0. 0. 0. 0. 0.]\n",
      " [0. 1. 0. 0. 0. 0. 0. 0. 0. 0.]\n",
      " [0. 0. 0. 1. 0. 0. 0. 0. 0. 0.]\n",
      " [0. 1. 0. 0. 0. 0. 0. 0. 0. 0.]\n",
      " [0. 0. 0. 0. 1. 0. 0. 0. 0. 0.]]\n"
     ]
    }
   ],
   "source": [
    "print(lab_train[:10])\n",
    "print(y_train[:10])"
   ]
  },
  {
   "cell_type": "markdown",
   "metadata": {},
   "source": [
    "## 5 - Build the Dense Neural Network (DNN)"
   ]
  },
  {
   "cell_type": "markdown",
   "metadata": {},
   "source": [
    " To get short computation times we build a simple dense network to classify the MNIST images. Of course, this is not the \"state of the art\" : convolutive NN, transformers have much more impressive scores, but we just want want short training computation time.<br><br>\n",
    "We buildthis naive **dense network**:\n",
    "- an **input layer** of 784 values (the pixels of the MNIST 28 $\\times$ 28 images put in the form of a vector of 784 normalized `float` numbers),\n",
    "- a **hidden layer** of 784 neurons using the `relu` activation function,\n",
    "- an **output layer** of 10 neurons, for the classification of the 10 digits {0,1,2...9}, using the `softmax` activation function adapted to classification problems .\n",
    "\n",
    "<p style=\"text-align:center; font-style:italic; font-size:12px;\">\n",
    "      <img src=\"img/Simple-DNN.png\" alt=\"archiNetwork.png\" style=\"width:900px;\"><br>\n",
    "     [image credit: JLC]"
   ]
  },
  {
   "cell_type": "code",
   "execution_count": 17,
   "metadata": {},
   "outputs": [],
   "source": [
    "NB_INPUT  = NB_PIXEL\n",
    "NB_NEURON = NB_PIXEL"
   ]
  },
  {
   "cell_type": "markdown",
   "metadata": {},
   "source": [
    "For the sake of convenience we défine a function to build the NN: "
   ]
  },
  {
   "cell_type": "code",
   "execution_count": 18,
   "metadata": {
    "tags": []
   },
   "outputs": [],
   "source": [
    "from tensorflow.keras.models import Sequential\n",
    "from tensorflow.keras.layers import Dense, Input\n",
    "\n",
    "def build_DNN(seed=None):\n",
    "\n",
    "    if seed is not None:\n",
    "        ##########################\n",
    "        # Deterministic training #\n",
    "        ##########################\n",
    "        # 1/ set the seed of the random generators involved by tensorflow:\n",
    "        tf.keras.utils.set_random_seed(seed)\n",
    "        # 2/ make the tf ops determinisctic \n",
    "        # [see https://blog.tensorflow.org/2022/05/whats-new-in-tensorflow-29.html]\n",
    "        tf.config.experimental.enable_op_determinism() \n",
    "\n",
    "    model = Sequential()\n",
    "    model.add(Input(shape=(NB_INPUT,), name='input'))             # INPUT layer\n",
    "    model.add(Dense(NB_NEURON, activation='relu', name='c1'))     # First hidden layer\n",
    "    model.add(Dense(NB_CLASS, activation='softmax', name='c2'))   # OUTPUT layer\n",
    "    model.compile(loss='categorical_crossentropy', optimizer='adam',  metrics=['accuracy'])\n",
    "    return model"
   ]
  },
  {
   "cell_type": "markdown",
   "metadata": {},
   "source": [
    "Lets's look at the number of _parameters_ (the _weights_) of the model:"
   ]
  },
  {
   "cell_type": "code",
   "execution_count": 19,
   "metadata": {},
   "outputs": [
    {
     "data": {
      "text/html": [
       "<pre style=\"white-space:pre;overflow-x:auto;line-height:normal;font-family:Menlo,'DejaVu Sans Mono',consolas,'Courier New',monospace\"><span style=\"font-weight: bold\">Model: \"sequential\"</span>\n",
       "</pre>\n"
      ],
      "text/plain": [
       "\u001b[1mModel: \"sequential\"\u001b[0m\n"
      ]
     },
     "metadata": {},
     "output_type": "display_data"
    },
    {
     "data": {
      "text/html": [
       "<pre style=\"white-space:pre;overflow-x:auto;line-height:normal;font-family:Menlo,'DejaVu Sans Mono',consolas,'Courier New',monospace\">┏━━━━━━━━━━━━━━━━━━━━━━━━━━━━━━━━━┳━━━━━━━━━━━━━━━━━━━━━━━━┳━━━━━━━━━━━━━━━┓\n",
       "┃<span style=\"font-weight: bold\"> Layer (type)                    </span>┃<span style=\"font-weight: bold\"> Output Shape           </span>┃<span style=\"font-weight: bold\">       Param # </span>┃\n",
       "┡━━━━━━━━━━━━━━━━━━━━━━━━━━━━━━━━━╇━━━━━━━━━━━━━━━━━━━━━━━━╇━━━━━━━━━━━━━━━┩\n",
       "│ c1 (<span style=\"color: #0087ff; text-decoration-color: #0087ff\">Dense</span>)                      │ (<span style=\"color: #00d7ff; text-decoration-color: #00d7ff\">None</span>, <span style=\"color: #00af00; text-decoration-color: #00af00\">784</span>)            │       <span style=\"color: #00af00; text-decoration-color: #00af00\">615,440</span> │\n",
       "├─────────────────────────────────┼────────────────────────┼───────────────┤\n",
       "│ c2 (<span style=\"color: #0087ff; text-decoration-color: #0087ff\">Dense</span>)                      │ (<span style=\"color: #00d7ff; text-decoration-color: #00d7ff\">None</span>, <span style=\"color: #00af00; text-decoration-color: #00af00\">10</span>)             │         <span style=\"color: #00af00; text-decoration-color: #00af00\">7,850</span> │\n",
       "└─────────────────────────────────┴────────────────────────┴───────────────┘\n",
       "</pre>\n"
      ],
      "text/plain": [
       "┏━━━━━━━━━━━━━━━━━━━━━━━━━━━━━━━━━┳━━━━━━━━━━━━━━━━━━━━━━━━┳━━━━━━━━━━━━━━━┓\n",
       "┃\u001b[1m \u001b[0m\u001b[1mLayer (type)                   \u001b[0m\u001b[1m \u001b[0m┃\u001b[1m \u001b[0m\u001b[1mOutput Shape          \u001b[0m\u001b[1m \u001b[0m┃\u001b[1m \u001b[0m\u001b[1m      Param #\u001b[0m\u001b[1m \u001b[0m┃\n",
       "┡━━━━━━━━━━━━━━━━━━━━━━━━━━━━━━━━━╇━━━━━━━━━━━━━━━━━━━━━━━━╇━━━━━━━━━━━━━━━┩\n",
       "│ c1 (\u001b[38;5;33mDense\u001b[0m)                      │ (\u001b[38;5;45mNone\u001b[0m, \u001b[38;5;34m784\u001b[0m)            │       \u001b[38;5;34m615,440\u001b[0m │\n",
       "├─────────────────────────────────┼────────────────────────┼───────────────┤\n",
       "│ c2 (\u001b[38;5;33mDense\u001b[0m)                      │ (\u001b[38;5;45mNone\u001b[0m, \u001b[38;5;34m10\u001b[0m)             │         \u001b[38;5;34m7,850\u001b[0m │\n",
       "└─────────────────────────────────┴────────────────────────┴───────────────┘\n"
      ]
     },
     "metadata": {},
     "output_type": "display_data"
    },
    {
     "data": {
      "text/html": [
       "<pre style=\"white-space:pre;overflow-x:auto;line-height:normal;font-family:Menlo,'DejaVu Sans Mono',consolas,'Courier New',monospace\"><span style=\"font-weight: bold\"> Total params: </span><span style=\"color: #00af00; text-decoration-color: #00af00\">623,290</span> (2.38 MB)\n",
       "</pre>\n"
      ],
      "text/plain": [
       "\u001b[1m Total params: \u001b[0m\u001b[38;5;34m623,290\u001b[0m (2.38 MB)\n"
      ]
     },
     "metadata": {},
     "output_type": "display_data"
    },
    {
     "data": {
      "text/html": [
       "<pre style=\"white-space:pre;overflow-x:auto;line-height:normal;font-family:Menlo,'DejaVu Sans Mono',consolas,'Courier New',monospace\"><span style=\"font-weight: bold\"> Trainable params: </span><span style=\"color: #00af00; text-decoration-color: #00af00\">623,290</span> (2.38 MB)\n",
       "</pre>\n"
      ],
      "text/plain": [
       "\u001b[1m Trainable params: \u001b[0m\u001b[38;5;34m623,290\u001b[0m (2.38 MB)\n"
      ]
     },
     "metadata": {},
     "output_type": "display_data"
    },
    {
     "data": {
      "text/html": [
       "<pre style=\"white-space:pre;overflow-x:auto;line-height:normal;font-family:Menlo,'DejaVu Sans Mono',consolas,'Courier New',monospace\"><span style=\"font-weight: bold\"> Non-trainable params: </span><span style=\"color: #00af00; text-decoration-color: #00af00\">0</span> (0.00 B)\n",
       "</pre>\n"
      ],
      "text/plain": [
       "\u001b[1m Non-trainable params: \u001b[0m\u001b[38;5;34m0\u001b[0m (0.00 B)\n"
      ]
     },
     "metadata": {},
     "output_type": "display_data"
    }
   ],
   "source": [
    "model = build_DNN()\n",
    "model.summary()"
   ]
  },
  {
   "cell_type": "markdown",
   "metadata": {},
   "source": [
    "## 6 - Reproducibilty of the DNN training..."
   ]
  },
  {
   "cell_type": "markdown",
   "metadata": {},
   "source": [
    "Perfect reproducibility of a neural network training may be difficult to achieve with tensorflow...<br>\n",
    "\n",
    "To highlight the question of reproducibility we run a short experiment: run a loop where the model is built without setting the seed, trained and evaluated once (_epochs=1_) at each iteration:"
   ]
  },
  {
   "cell_type": "markdown",
   "metadata": {},
   "source": [
    "#### A/ If we don't set the tensorflow seed, the training is not reproducible:\n",
    "\n",
    "In the cell bellow, we train the network on only 1 epoch 5 times on a row:"
   ]
  },
  {
   "cell_type": "code",
   "execution_count": 20,
   "metadata": {
    "tags": []
   },
   "outputs": [
    {
     "name": "stdout",
     "output_type": "stream",
     "text": [
      "Intel(R) Xeon(R) W-1390P @ 3.50GHz\n",
      "1875/1875 - 4s - 2ms/step - accuracy: 0.9432 - loss: 0.1910 - val_accuracy: 0.9732 - val_loss: 0.0911\n",
      "1875/1875 - 4s - 2ms/step - accuracy: 0.9429 - loss: 0.1919 - val_accuracy: 0.9722 - val_loss: 0.0922\n",
      "1875/1875 - 4s - 2ms/step - accuracy: 0.9438 - loss: 0.1899 - val_accuracy: 0.9684 - val_loss: 0.1033\n",
      "1875/1875 - 4s - 2ms/step - accuracy: 0.9432 - loss: 0.1904 - val_accuracy: 0.9644 - val_loss: 0.1129\n",
      "1875/1875 - 4s - 2ms/step - accuracy: 0.9439 - loss: 0.1896 - val_accuracy: 0.9698 - val_loss: 0.0948\n"
     ]
    }
   ],
   "source": [
    "print(get_cpu_info()['brand_raw'])\n",
    "for _ in range(5):\n",
    "    model = build_DNN()  # Build a new model without setting seed\n",
    "    hist = model.fit(x_train, y_train, epochs=1, batch_size=32, validation_data=(x_valid, y_valid), verbose=2)    "
   ]
  },
  {
   "cell_type": "code",
   "execution_count": 21,
   "metadata": {
    "tags": []
   },
   "outputs": [
    {
     "name": "stdout",
     "output_type": "stream",
     "text": [
      "Intel(R) Xeon(R) W-1390P @ 3.50GHz\n",
      "3750/3750 - 7s - 2ms/step - accuracy: 0.9466 - loss: 0.1770 - val_accuracy: 0.9648 - val_loss: 0.1107\n",
      "3750/3750 - 7s - 2ms/step - accuracy: 0.9456 - loss: 0.1796 - val_accuracy: 0.9740 - val_loss: 0.0851\n",
      "3750/3750 - 7s - 2ms/step - accuracy: 0.9457 - loss: 0.1812 - val_accuracy: 0.9752 - val_loss: 0.0844\n",
      "3750/3750 - 7s - 2ms/step - accuracy: 0.9459 - loss: 0.1780 - val_accuracy: 0.9714 - val_loss: 0.0960\n",
      "3750/3750 - 7s - 2ms/step - accuracy: 0.9455 - loss: 0.1794 - val_accuracy: 0.9724 - val_loss: 0.0889\n"
     ]
    }
   ],
   "source": [
    "print(get_cpu_info()['brand_raw'])\n",
    "for _ in range(5):\n",
    "    model = build_DNN()  # Build a new model without setting seed\n",
    "    hist = model.fit(x_train, y_train, epochs=1, batch_size=16, validation_data=(x_valid, y_valid), verbose=2)    "
   ]
  },
  {
   "cell_type": "code",
   "execution_count": 22,
   "metadata": {
    "tags": []
   },
   "outputs": [
    {
     "name": "stdout",
     "output_type": "stream",
     "text": [
      "Intel(R) Xeon(R) W-1390P @ 3.50GHz\n",
      "938/938 - 2s - 3ms/step - accuracy: 0.9248 - loss: 0.2554 - val_accuracy: 0.9612 - val_loss: 0.1327\n",
      "938/938 - 2s - 3ms/step - accuracy: 0.9253 - loss: 0.2514 - val_accuracy: 0.9612 - val_loss: 0.1317\n",
      "938/938 - 2s - 3ms/step - accuracy: 0.9256 - loss: 0.2513 - val_accuracy: 0.9526 - val_loss: 0.1462\n",
      "938/938 - 2s - 3ms/step - accuracy: 0.9243 - loss: 0.2530 - val_accuracy: 0.9552 - val_loss: 0.1351\n",
      "938/938 - 2s - 2ms/step - accuracy: 0.9249 - loss: 0.2563 - val_accuracy: 0.9528 - val_loss: 0.1473\n"
     ]
    }
   ],
   "source": [
    "print(get_cpu_info()['brand_raw'])\n",
    "for _ in range(5):\n",
    "    model = build_DNN()  # Build a new model without setting seed\n",
    "    hist = model.fit(x_train[:30000], y_train[:30000], epochs=1, batch_size=32, validation_data=(x_valid, y_valid), verbose=2)    "
   ]
  },
  {
   "cell_type": "code",
   "execution_count": 23,
   "metadata": {
    "tags": []
   },
   "outputs": [
    {
     "name": "stdout",
     "output_type": "stream",
     "text": [
      "Intel(R) Xeon(R) W-1390P @ 3.50GHz\n",
      "157/157 - 1s - 6ms/step - accuracy: 0.8526 - loss: 0.5023 - val_accuracy: 0.9088 - val_loss: 0.2969\n",
      "157/157 - 1s - 6ms/step - accuracy: 0.8514 - loss: 0.5050 - val_accuracy: 0.8842 - val_loss: 0.3722\n",
      "157/157 - 1s - 6ms/step - accuracy: 0.8554 - loss: 0.4905 - val_accuracy: 0.9092 - val_loss: 0.3064\n",
      "157/157 - 1s - 6ms/step - accuracy: 0.8570 - loss: 0.4968 - val_accuracy: 0.8904 - val_loss: 0.3582\n",
      "157/157 - 1s - 6ms/step - accuracy: 0.8504 - loss: 0.5078 - val_accuracy: 0.9054 - val_loss: 0.3126\n"
     ]
    }
   ],
   "source": [
    "print(get_cpu_info()['brand_raw'])\n",
    "for _ in range(5):\n",
    "    model = build_DNN()  # Build a new model without setting seed\n",
    "    hist = model.fit(x_train[:5000], y_train[:5000], epochs=1, batch_size=32, validation_data=(x_valid, y_valid), verbose=2)    "
   ]
  },
  {
   "cell_type": "code",
   "execution_count": 24,
   "metadata": {
    "tags": []
   },
   "outputs": [
    {
     "name": "stdout",
     "output_type": "stream",
     "text": [
      "Intel(R) Xeon(R) W-1390P @ 3.50GHz\n",
      "63/63 - 1s - 9ms/step - accuracy: 0.7550 - loss: 0.8514 - val_accuracy: 0.8300 - val_loss: 0.6150\n",
      "63/63 - 1s - 9ms/step - accuracy: 0.7340 - loss: 0.8744 - val_accuracy: 0.7650 - val_loss: 0.6929\n",
      "63/63 - 1s - 9ms/step - accuracy: 0.7420 - loss: 0.8656 - val_accuracy: 0.8050 - val_loss: 0.5801\n",
      "63/63 - 1s - 9ms/step - accuracy: 0.7360 - loss: 0.8827 - val_accuracy: 0.8400 - val_loss: 0.5617\n",
      "63/63 - 1s - 9ms/step - accuracy: 0.7370 - loss: 0.8588 - val_accuracy: 0.8450 - val_loss: 0.5418\n"
     ]
    }
   ],
   "source": [
    "print(get_cpu_info()['brand_raw'])\n",
    "for _ in range(5):\n",
    "    model = build_DNN()  # Build a new model without setting seed\n",
    "    hist = model.fit(x_train[:1000], y_train[:1000], epochs=1, batch_size=16, \n",
    "                     validation_data=(x_valid[:200], y_valid[:200]), verbose=2)    "
   ]
  },
  {
   "cell_type": "code",
   "execution_count": 25,
   "metadata": {
    "tags": []
   },
   "outputs": [
    {
     "name": "stdout",
     "output_type": "stream",
     "text": [
      "Intel(R) Xeon(R) W-1390P @ 3.50GHz\n",
      "32/32 - 0s - 16ms/step - accuracy: 0.7160 - loss: 1.0038 - val_accuracy: 0.7800 - val_loss: 0.7036\n",
      "32/32 - 1s - 16ms/step - accuracy: 0.7030 - loss: 1.0227 - val_accuracy: 0.7850 - val_loss: 0.6408\n",
      "32/32 - 0s - 16ms/step - accuracy: 0.6860 - loss: 1.0575 - val_accuracy: 0.7950 - val_loss: 0.6089\n",
      "32/32 - 1s - 16ms/step - accuracy: 0.7070 - loss: 0.9848 - val_accuracy: 0.8250 - val_loss: 0.5842\n",
      "32/32 - 0s - 15ms/step - accuracy: 0.7230 - loss: 1.0076 - val_accuracy: 0.7900 - val_loss: 0.6563\n"
     ]
    }
   ],
   "source": [
    "print(get_cpu_info()['brand_raw'])\n",
    "for _ in range(5):\n",
    "    model = build_DNN()  # Build a new model without setting seed\n",
    "    hist = model.fit(x_train[:1000], y_train[:1000], epochs=1, batch_size=32, \n",
    "                     validation_data=(x_valid[:200], y_valid[:200]), verbose=2)    "
   ]
  },
  {
   "cell_type": "code",
   "execution_count": 26,
   "metadata": {
    "tags": []
   },
   "outputs": [
    {
     "name": "stdout",
     "output_type": "stream",
     "text": [
      "Intel(R) Xeon(R) W-1390P @ 3.50GHz\n",
      "313/313 - 1s - 4ms/step - accuracy: 0.8662 - loss: 0.4519 - val_accuracy: 0.9174 - val_loss: 0.2636\n",
      "313/313 - 1s - 4ms/step - accuracy: 0.8696 - loss: 0.4492 - val_accuracy: 0.9116 - val_loss: 0.2838\n",
      "313/313 - 1s - 4ms/step - accuracy: 0.8710 - loss: 0.4493 - val_accuracy: 0.9060 - val_loss: 0.2931\n",
      "313/313 - 1s - 4ms/step - accuracy: 0.8708 - loss: 0.4466 - val_accuracy: 0.9116 - val_loss: 0.2945\n",
      "313/313 - 1s - 4ms/step - accuracy: 0.8670 - loss: 0.4450 - val_accuracy: 0.9104 - val_loss: 0.3060\n"
     ]
    }
   ],
   "source": [
    "print(get_cpu_info()['brand_raw'])\n",
    "for _ in range(5):\n",
    "    model = build_DNN()  # Build a new model without setting seed\n",
    "    hist = model.fit(x_train[:5000], y_train[:5000], epochs=1, batch_size=16, validation_data=(x_valid, y_valid), verbose=2)    "
   ]
  },
  {
   "cell_type": "code",
   "execution_count": 27,
   "metadata": {
    "tags": []
   },
   "outputs": [
    {
     "name": "stdout",
     "output_type": "stream",
     "text": [
      "Intel(R) Xeon(R) W-1390P @ 3.50GHz\n",
      "3750/3750 - 7s - 2ms/step - accuracy: 0.9451 - loss: 0.1803 - val_accuracy: 0.9650 - val_loss: 0.1092\n",
      "3750/3750 - 7s - 2ms/step - accuracy: 0.9460 - loss: 0.1812 - val_accuracy: 0.9720 - val_loss: 0.0985\n",
      "3750/3750 - 7s - 2ms/step - accuracy: 0.9467 - loss: 0.1779 - val_accuracy: 0.9640 - val_loss: 0.1032\n",
      "3750/3750 - 7s - 2ms/step - accuracy: 0.9458 - loss: 0.1789 - val_accuracy: 0.9730 - val_loss: 0.0943\n",
      "3750/3750 - 7s - 2ms/step - accuracy: 0.9455 - loss: 0.1786 - val_accuracy: 0.9670 - val_loss: 0.0976\n"
     ]
    }
   ],
   "source": [
    "print(get_cpu_info()['brand_raw'])\n",
    "for _ in range(5):\n",
    "    model = build_DNN()  # Build a new model without setting seed\n",
    "    hist = model.fit(x_train, y_train, epochs=1, batch_size=16, validation_data=(x_valid[:1000], y_valid[:1000]), verbose=2)    "
   ]
  },
  {
   "cell_type": "markdown",
   "metadata": {},
   "source": [
    "#### B/ If we just reload the inital network the training is not reproducible:"
   ]
  },
  {
   "cell_type": "code",
   "execution_count": 28,
   "metadata": {},
   "outputs": [],
   "source": [
    "model = build_DNN()\n",
    "model.save_weights('weights/DNN_relu_noseed.weights.h5')"
   ]
  },
  {
   "cell_type": "code",
   "execution_count": 29,
   "metadata": {
    "tags": []
   },
   "outputs": [
    {
     "name": "stdout",
     "output_type": "stream",
     "text": [
      "Intel(R) Xeon(R) W-1390P @ 3.50GHz\n",
      "3750/3750 - 7s - 2ms/step - accuracy: 0.9460 - loss: 0.1796 - val_accuracy: 0.9612 - val_loss: 0.1259\n"
     ]
    },
    {
     "name": "stderr",
     "output_type": "stream",
     "text": [
      "/home/jlc/work/IA-MachineLearning/16-Limoges-IRCEFR/Studies/Study-00/.venv/lib/python3.12/site-packages/keras/src/saving/saving_lib.py:757: UserWarning: Skipping variable loading for optimizer 'adam', because it has 10 variables whereas the saved optimizer has 2 variables. \n",
      "  saveable.load_own_variables(weights_store.get(inner_path))\n"
     ]
    },
    {
     "name": "stdout",
     "output_type": "stream",
     "text": [
      "3750/3750 - 7s - 2ms/step - accuracy: 0.9485 - loss: 0.1666 - val_accuracy: 0.9758 - val_loss: 0.0828\n",
      "3750/3750 - 7s - 2ms/step - accuracy: 0.9511 - loss: 0.1608 - val_accuracy: 0.9646 - val_loss: 0.1151\n",
      "3750/3750 - 7s - 2ms/step - accuracy: 0.9503 - loss: 0.1634 - val_accuracy: 0.9768 - val_loss: 0.0786\n",
      "3750/3750 - 7s - 2ms/step - accuracy: 0.9500 - loss: 0.1645 - val_accuracy: 0.9724 - val_loss: 0.0829\n"
     ]
    }
   ],
   "source": [
    "print(get_cpu_info()['brand_raw'])\n",
    "model = build_DNN()\n",
    "for _ in range(5):\n",
    "    model.load_weights('weights/DNN_relu_noseed.weights.h5') # reload the inital model weights\n",
    "    hist = model.fit(x_train, y_train, epochs=1, batch_size=16, validation_data=(x_valid, y_valid), verbose=2)    "
   ]
  },
  {
   "cell_type": "code",
   "execution_count": 30,
   "metadata": {
    "tags": []
   },
   "outputs": [
    {
     "name": "stdout",
     "output_type": "stream",
     "text": [
      "Intel(R) Xeon(R) W-1390P @ 3.50GHz\n",
      "1875/1875 - 4s - 2ms/step - accuracy: 0.9490 - loss: 0.1697 - val_accuracy: 0.9714 - val_loss: 0.0883\n",
      "1875/1875 - 4s - 2ms/step - accuracy: 0.9477 - loss: 0.1734 - val_accuracy: 0.9682 - val_loss: 0.0993\n",
      "1875/1875 - 4s - 2ms/step - accuracy: 0.9472 - loss: 0.1733 - val_accuracy: 0.9750 - val_loss: 0.0820\n",
      "1875/1875 - 4s - 2ms/step - accuracy: 0.9479 - loss: 0.1729 - val_accuracy: 0.9774 - val_loss: 0.0773\n",
      "1875/1875 - 4s - 2ms/step - accuracy: 0.9470 - loss: 0.1737 - val_accuracy: 0.9696 - val_loss: 0.1068\n"
     ]
    }
   ],
   "source": [
    "print(get_cpu_info()['brand_raw'])\n",
    "for _ in range(5):\n",
    "    model.load_weights('weights/DNN_relu_noseed.weights.h5') # reload the inital model weights\n",
    "    hist = model.fit(x_train, y_train, epochs=1, batch_size=32, validation_data=(x_valid, y_valid), verbose=2)    "
   ]
  },
  {
   "cell_type": "markdown",
   "metadata": {},
   "source": [
    "#### C/ If the tensorflow seed is set fthe training is reproducible:"
   ]
  },
  {
   "cell_type": "code",
   "execution_count": 31,
   "metadata": {
    "tags": []
   },
   "outputs": [
    {
     "name": "stdout",
     "output_type": "stream",
     "text": [
      "Intel(R) Xeon(R) W-1390P @ 3.50GHz\n",
      "3750/3750 - 8s - 2ms/step - accuracy: 0.9457 - loss: 0.1790 - val_accuracy: 0.9688 - val_loss: 0.1067\n",
      "3750/3750 - 8s - 2ms/step - accuracy: 0.9457 - loss: 0.1790 - val_accuracy: 0.9688 - val_loss: 0.1067\n",
      "3750/3750 - 8s - 2ms/step - accuracy: 0.9457 - loss: 0.1790 - val_accuracy: 0.9688 - val_loss: 0.1067\n",
      "3750/3750 - 7s - 2ms/step - accuracy: 0.9457 - loss: 0.1790 - val_accuracy: 0.9688 - val_loss: 0.1067\n",
      "3750/3750 - 7s - 2ms/step - accuracy: 0.9457 - loss: 0.1790 - val_accuracy: 0.9688 - val_loss: 0.1067\n"
     ]
    }
   ],
   "source": [
    "print(get_cpu_info()['brand_raw'])\n",
    "for _ in range(5):\n",
    "    model = build_DNN(seed=1234)  # Build a new model with seed set\n",
    "    hist = model.fit(x_train, y_train, epochs=1, batch_size=16, validation_data=(x_valid, y_valid), verbose=2)    "
   ]
  },
  {
   "cell_type": "markdown",
   "metadata": {},
   "source": [
    "#### D/ If we load the models's structure & initial weights the training is reproducible"
   ]
  },
  {
   "cell_type": "code",
   "execution_count": 32,
   "metadata": {},
   "outputs": [],
   "source": [
    "model = build_DNN(seed=1234)\n",
    "model.save('models/DNN_relu_seed1234.keras')"
   ]
  },
  {
   "cell_type": "code",
   "execution_count": 33,
   "metadata": {},
   "outputs": [
    {
     "name": "stdout",
     "output_type": "stream",
     "text": [
      "Intel(R) Xeon(R) W-1390P @ 3.50GHz\n",
      "3750/3750 - 7s - 2ms/step - accuracy: 0.9457 - loss: 0.1790 - val_accuracy: 0.9688 - val_loss: 0.1067\n",
      "3750/3750 - 9s - 2ms/step - accuracy: 0.9457 - loss: 0.1790 - val_accuracy: 0.9688 - val_loss: 0.1067\n",
      "3750/3750 - 9s - 2ms/step - accuracy: 0.9457 - loss: 0.1790 - val_accuracy: 0.9688 - val_loss: 0.1067\n",
      "3750/3750 - 8s - 2ms/step - accuracy: 0.9457 - loss: 0.1790 - val_accuracy: 0.9688 - val_loss: 0.1067\n",
      "3750/3750 - 7s - 2ms/step - accuracy: 0.9457 - loss: 0.1790 - val_accuracy: 0.9688 - val_loss: 0.1067\n"
     ]
    }
   ],
   "source": [
    "print(get_cpu_info()['brand_raw'])\n",
    "for _ in range(5):\n",
    "    model = tf.keras.models.load_model('models/DNN_relu_seed1234.keras') # reload the model structure & weights \n",
    "    hist = model.fit(x_train, y_train, epochs=1, batch_size=16, validation_data=(x_valid, y_valid), verbose=2)    "
   ]
  },
  {
   "cell_type": "markdown",
   "metadata": {},
   "source": [
    "$\\leadsto$ the repoducibility is perfect &#128526; as for the case C/."
   ]
  },
  {
   "cell_type": "markdown",
   "metadata": {
    "tags": []
   },
   "source": [
    "<span style=\"color:brown\">We can ensure the reproducibility of the first epoch of the training:<br>\n",
    "$\\leadsto$ by setting the seed at the network creation (and everywhere else where required)<br>\n",
    "$\\leadsto$ or by reloading the entire network structure and state with the __tf.keras.models.load_model__ function<br><br>\n",
    "If the creation of the network is costly, one can prefer to build it once, and then to reload the entire network structure and state and set the seed.   \n",
    "</spawn>"
   ]
  },
  {
   "cell_type": "markdown",
   "metadata": {},
   "source": [
    "### Run several identical trainings with a new model at each iteration $\\leadsto$ not reproducible"
   ]
  },
  {
   "cell_type": "markdown",
   "metadata": {},
   "source": [
    "Check some important parameters:"
   ]
  },
  {
   "cell_type": "code",
   "execution_count": 34,
   "metadata": {},
   "outputs": [
    {
     "name": "stdout",
     "output_type": "stream",
     "text": [
      "x_train.shape=(60000, 784)\n",
      "NB_INPUT=784, NB_NEURON=784, NB_CLASS=10\n"
     ]
    }
   ],
   "source": [
    "print(f'{x_train.shape=}')\n",
    "print(f'{NB_INPUT=}, {NB_NEURON=}, {NB_CLASS=}')"
   ]
  },
  {
   "cell_type": "code",
   "execution_count": null,
   "metadata": {
    "tags": []
   },
   "outputs": [
    {
     "name": "stdout",
     "output_type": "stream",
     "text": [
      "training  #1 #2 #3"
     ]
    }
   ],
   "source": [
    "H, t0 = [], time()\n",
    "print(\"training \", end=\"\")\n",
    "\n",
    "for i in range(5):\n",
    "    print(f\" #{i+1}\", end=\"\")\n",
    "    \n",
    "    # build a new network/\n",
    "    model = build_DNN()\n",
    "    \n",
    "    hist = model.fit(x_train, y_train, # images, labels\n",
    "                     epochs=10,        # the total number of successive trainings\n",
    "                     batch_size=32,    # fragmentation of the whole dada set in batches\n",
    "                     validation_data=(x_valid, y_valid), \n",
    "                     verbose=0)\n",
    "    H.append(hist)  \n",
    "\n",
    "print(f' Total Train {elapsed_time_since(t0)}')   \n",
    "plot_loss_accuracy(H) "
   ]
  },
  {
   "cell_type": "markdown",
   "metadata": {},
   "source": [
    "The `val_loss` and `val_accuracy` differ at each of the 3 training.<br>\n",
    "It can be a problem if we use a _callback_ like __early stoppping__ : the training will stop at a different epoch if we run the training many times."
   ]
  },
  {
   "cell_type": "markdown",
   "metadata": {},
   "source": [
    "### Load the same model weights at each iteration $\\leadsto$ not reproducible"
   ]
  },
  {
   "cell_type": "code",
   "execution_count": null,
   "metadata": {
    "tags": []
   },
   "outputs": [],
   "source": [
    "H, t0 = [], time()\n",
    "print(\"training \", end=\"\")\n",
    "\n",
    "for i in range(5):\n",
    "    print(f\" #{i+1}\", end=\"\")\n",
    "        \n",
    "    # reload the structure of the NN and its initial state \n",
    "    model.load_weights('weights/DNN_relu_noseed.weights.h5') \n",
    "        \n",
    "    # train the network\n",
    "    hist = model.fit(x_train, y_train, \n",
    "                     epochs=10, \n",
    "                     batch_size=32,\n",
    "                     validation_data=(x_valid, y_valid), \n",
    "                     verbose=0)\n",
    "    \n",
    "    H.append(hist)  \n",
    "\n",
    "print(f' Total Train {elapsed_time_since(t0)}')   \n",
    "plot_loss_accuracy(H) "
   ]
  },
  {
   "cell_type": "markdown",
   "metadata": {},
   "source": [
    "The `val_loss` and `val_accuracy` differ at each training.<br>\n",
    "It can be a problem if we use a _callback_ like __early stoppping__ : the training will stop at a different epoch if we run the training many times."
   ]
  },
  {
   "cell_type": "markdown",
   "metadata": {},
   "source": [
    "### Running several identical training with the tensorflow seed set $\\leadsto$ reproducible"
   ]
  },
  {
   "cell_type": "code",
   "execution_count": null,
   "metadata": {
    "tags": []
   },
   "outputs": [],
   "source": [
    "H, t0 = [], time()\n",
    "print(\"training \", end=\"\")\n",
    "\n",
    "for i in range(5):\n",
    "    print(f\" #{i+1}\", end=\"\")\n",
    "    \n",
    "    # build a new network/\n",
    "    model = build_DNN(1234)\n",
    "    \n",
    "    hist = model.fit(x_train, y_train, # images, labels\n",
    "                     epochs=10,        # the total number of successive trainings\n",
    "                     batch_size=32,    # fragmentation of the whole dada set in batches\n",
    "                     validation_data=(x_valid, y_valid), \n",
    "                     verbose=0)\n",
    "    H.append(hist)  \n",
    "\n",
    "print(f' Total Train {elapsed_time_since(t0)}')   \n",
    "plot_loss_accuracy(H) "
   ]
  },
  {
   "cell_type": "markdown",
   "metadata": {},
   "source": [
    "$\\leadsto$ the repoducibility is perfect &#128526;"
   ]
  },
  {
   "cell_type": "markdown",
   "metadata": {},
   "source": [
    "### Load the same model structure & weights + set the tf seed at each iteration $\\leadsto$ reproducible"
   ]
  },
  {
   "cell_type": "code",
   "execution_count": null,
   "metadata": {
    "tags": []
   },
   "outputs": [],
   "source": [
    "H, t0 = [], time()\n",
    "print(\"training \", end=\"\")\n",
    "\n",
    "for i in range(5):\n",
    "    print(f\" #{i+1}\", end=\"\")\n",
    "                \n",
    "    # reload the structure of the NN and its initial state \n",
    "    model = tf.keras.models.load_model('models/DNN_relu_seed1234.keras') \n",
    "    \n",
    "    # set the seed at each turn of the loop:\n",
    "    tf.random.set_seed(1234)\n",
    "    \n",
    "    # train the network\n",
    "    hist = model.fit(x_train, y_train, \n",
    "                     epochs=10, \n",
    "                     batch_size=32,\n",
    "                     validation_data=(x_valid, y_valid), \n",
    "                     verbose=0)\n",
    "    H.append(hist)  \n",
    "\n",
    "print(f' Total Train {elapsed_time_since(t0)}')   \n",
    "plot_loss_accuracy(H) "
   ]
  },
  {
   "cell_type": "markdown",
   "metadata": {},
   "source": [
    "Now that the training is reproducible it makes sens to study the influnece of some meta-parameters (n_epoch, batch_size...) on the performance of the trained network."
   ]
  },
  {
   "cell_type": "markdown",
   "metadata": {},
   "source": [
    "# Other interesting resources... videos:"
   ]
  },
  {
   "cell_type": "code",
   "execution_count": 55,
   "metadata": {
    "tags": []
   },
   "outputs": [
    {
     "data": {
      "text/html": [
       "<iframe src=\"https://www.youtube.com/embed/trWrEWfhTVg\" width=\"800\" height=\"450\" frameborder=\"0\" allow=\"accelerometer; autoplay; encrypted-media; gyroscope; picture-in-picture\" allowfullscreen></iframe>\n"
      ],
      "text/plain": [
       "<IPython.core.display.HTML object>"
      ]
     },
     "metadata": {},
     "output_type": "display_data"
    }
   ],
   "source": [
    "%%HTML\n",
    "<iframe src=\"https://www.youtube.com/embed/trWrEWfhTVg\" width=\"800\" height=\"450\" frameborder=\"0\" allow=\"accelerometer; autoplay; encrypted-media; gyroscope; picture-in-picture\" allowfullscreen></iframe>"
   ]
  },
  {
   "cell_type": "code",
   "execution_count": 56,
   "metadata": {
    "tags": []
   },
   "outputs": [
    {
     "data": {
      "text/html": [
       "<iframe src=\"https://www.youtube.com/embed/aircAruvnKk\" width=\"800\" height=\"450\" frameborder=\"0\" allow=\"accelerometer; autoplay; encrypted-media; gyroscope; picture-in-picture\" allowfullscreen></iframe>\n"
      ],
      "text/plain": [
       "<IPython.core.display.HTML object>"
      ]
     },
     "metadata": {},
     "output_type": "display_data"
    }
   ],
   "source": [
    "%%HTML\n",
    "<iframe src=\"https://www.youtube.com/embed/aircAruvnKk\" width=\"800\" height=\"450\" frameborder=\"0\" allow=\"accelerometer; autoplay; encrypted-media; gyroscope; picture-in-picture\" allowfullscreen></iframe>"
   ]
  },
  {
   "cell_type": "code",
   "execution_count": 57,
   "metadata": {
    "tags": []
   },
   "outputs": [
    {
     "data": {
      "text/html": [
       "<iframe src=\"https://www.youtube.com/embed/IHZwWFHWa-w\" width=\"800\" height=\"450\" frameborder=\"0\" allow=\"accelerometer; autoplay; encrypted-media; gyroscope; picture-in-picture\" allowfullscreen></iframe>\n"
      ],
      "text/plain": [
       "<IPython.core.display.HTML object>"
      ]
     },
     "metadata": {},
     "output_type": "display_data"
    }
   ],
   "source": [
    "%%HTML\n",
    "<iframe src=\"https://www.youtube.com/embed/IHZwWFHWa-w\" width=\"800\" height=\"450\" frameborder=\"0\" allow=\"accelerometer; autoplay; encrypted-media; gyroscope; picture-in-picture\" allowfullscreen></iframe>"
   ]
  },
  {
   "cell_type": "code",
   "execution_count": 58,
   "metadata": {
    "tags": []
   },
   "outputs": [
    {
     "data": {
      "text/html": [
       "<iframe src=\"https://www.youtube.com/embed/Ilg3gGewQ5U\" width=\"800\" height=\"450\" frameborder=\"0\" allow=\"accelerometer; autoplay; encrypted-media; gyroscope; picture-in-picture\" allowfullscreen></iframe>\n"
      ],
      "text/plain": [
       "<IPython.core.display.HTML object>"
      ]
     },
     "metadata": {},
     "output_type": "display_data"
    }
   ],
   "source": [
    "%%HTML\n",
    "<iframe src=\"https://www.youtube.com/embed/Ilg3gGewQ5U\" width=\"800\" height=\"450\" frameborder=\"0\" allow=\"accelerometer; autoplay; encrypted-media; gyroscope; picture-in-picture\" allowfullscreen></iframe>"
   ]
  },
  {
   "cell_type": "code",
   "execution_count": null,
   "metadata": {},
   "outputs": [],
   "source": []
  }
 ],
 "metadata": {
  "kernelspec": {
   "display_name": "Python 3 (ipykernel)",
   "language": "python",
   "name": "python3"
  },
  "language_info": {
   "codemirror_mode": {
    "name": "ipython",
    "version": 3
   },
   "file_extension": ".py",
   "mimetype": "text/x-python",
   "name": "python",
   "nbconvert_exporter": "python",
   "pygments_lexer": "ipython3",
   "version": "3.12.3"
  }
 },
 "nbformat": 4,
 "nbformat_minor": 4
}
